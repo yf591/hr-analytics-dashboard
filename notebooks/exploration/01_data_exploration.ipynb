{
 "cells": [
  {
   "cell_type": "markdown",
   "id": "3e71d39e",
   "metadata": {},
   "source": [
    "# IBM HR Analytics Dataset - Initial Exploration\n",
    "\n",
    "This notebook explores the IBM HR Analytics Employee Attrition & Performance dataset from Kaggle."
   ]
  },
  {
   "cell_type": "code",
   "execution_count": null,
   "id": "99a14deb",
   "metadata": {},
   "outputs": [],
   "source": [
    "import pandas as pd\n",
    "import numpy as np\n",
    "import matplotlib.pyplot as plt\n",
    "import seaborn as sns\n",
    "import os\n",
    "\n",
    "# Configure matplotlib and seaborn\n",
    "plt.style.use('ggplot')\n",
    "sns.set(style='whitegrid')\n",
    "%matplotlib inline\n",
    "\n",
    "# Set pandas display options\n",
    "pd.set_option('display.max_columns', None)\n",
    "pd.set_option('display.max_rows', 100)"
   ]
  },
  {
   "cell_type": "code",
   "execution_count": null,
   "id": "4d45984e",
   "metadata": {},
   "outputs": [],
   "source": [
    "# Load the dataset\n",
    "data_path = os.path.join('..', '..', 'data', 'raw', 'WA_Fn-UseC_-HR-Employee-Attrition.csv')\n",
    "df = pd.read_csv(data_path)\n",
    "\n",
    "# Display basic info\n",
    "print(f\"Dataset shape: {df.shape}\")\n",
    "df.head()"
   ]
  },
  {
   "cell_type": "code",
   "execution_count": null,
   "id": "6cbedd75",
   "metadata": {},
   "outputs": [],
   "source": [
    "# Check data types\n",
    "df.info()"
   ]
  },
  {
   "cell_type": "code",
   "execution_count": null,
   "id": "9f423425",
   "metadata": {},
   "outputs": [],
   "source": [
    "# Check basic statistics\n",
    "df.describe()"
   ]
  },
  {
   "cell_type": "code",
   "execution_count": null,
   "id": "f8584bf7",
   "metadata": {},
   "outputs": [],
   "source": [
    "# Check for missing values\n",
    "missing_values = df.isnull().sum()\n",
    "print(\"Missing values:\")\n",
    "print(missing_values[missing_values > 0] if any(missing_values > 0) else \"No missing values\")"
   ]
  },
  {
   "cell_type": "markdown",
   "id": "46124295",
   "metadata": {},
   "source": [
    "## Target Variable Analysis: Attrition"
   ]
  },
  {
   "cell_type": "code",
   "execution_count": null,
   "id": "96a327d3",
   "metadata": {},
   "outputs": [],
   "source": [
    "# Overall attrition rate\n",
    "attrition_count = df['Attrition'].value_counts()\n",
    "attrition_pct = df['Attrition'].value_counts(normalize=True) * 100\n",
    "\n",
    "print(f\"Attrition counts:\\n{attrition_count}\")\n",
    "print(f\"\\nAttrition percentage:\\n{attrition_pct}\")\n",
    "\n",
    "# Plot attrition distribution\n",
    "plt.figure(figsize=(10, 6))\n",
    "sns.countplot(x='Attrition', data=df)\n",
    "plt.title('Attrition Distribution')\n",
    "plt.xlabel('Attrition')\n",
    "plt.ylabel('Count')\n",
    "\n",
    "for i, count in enumerate(attrition_count):\n",
    "    plt.text(i, count + 30, f\"{count} ({attrition_pct[i]:.1f}%)\", \n",
    "             horizontalalignment='center')\n",
    "\n",
    "plt.show()"
   ]
  },
  {
   "cell_type": "markdown",
   "id": "9a30552e",
   "metadata": {},
   "source": [
    "## Departmental Analysis"
   ]
  },
  {
   "cell_type": "code",
   "execution_count": null,
   "id": "78aa850b",
   "metadata": {},
   "outputs": [],
   "source": [
    "# Department distribution\n",
    "dept_counts = df['Department'].value_counts()\n",
    "print(\"Department distribution:\")\n",
    "print(dept_counts)\n",
    "\n",
    "# Plot department distribution\n",
    "plt.figure(figsize=(12, 6))\n",
    "sns.countplot(y='Department', data=df, order=dept_counts.index)\n",
    "plt.title('Employee Count by Department')\n",
    "plt.xlabel('Count')\n",
    "plt.ylabel('Department')\n",
    "for i, count in enumerate(dept_counts):\n",
    "    plt.text(count + 10, i, str(count), va='center')\n",
    "plt.show()"
   ]
  },
  {
   "cell_type": "code",
   "execution_count": null,
   "id": "66544284",
   "metadata": {},
   "outputs": [],
   "source": [
    "# Attrition by department\n",
    "dept_attrition = df.groupby('Department')['Attrition'].apply(\n",
    "    lambda x: (x == 'Yes').mean() * 100\n",
    ").reset_index()\n",
    "dept_attrition.columns = ['Department', 'Attrition Rate (%)']\n",
    "dept_attrition = dept_attrition.sort_values('Attrition Rate (%)', ascending=False)\n",
    "\n",
    "print(\"Attrition rate by department:\")\n",
    "print(dept_attrition)\n",
    "\n",
    "# Plot attrition by department\n",
    "plt.figure(figsize=(12, 6))\n",
    "sns.barplot(x='Attrition Rate (%)', y='Department', data=dept_attrition)\n",
    "plt.title('Attrition Rate by Department')\n",
    "plt.xlabel('Attrition Rate (%)')\n",
    "plt.ylabel('Department')\n",
    "for i, rate in enumerate(dept_attrition['Attrition Rate (%)']):\n",
    "    plt.text(rate + 0.5, i, f\"{rate:.1f}%\", va='center')\n",
    "plt.show()"
   ]
  },
  {
   "cell_type": "markdown",
   "id": "061b2494",
   "metadata": {},
   "source": [
    "## Age and Experience Analysis"
   ]
  },
  {
   "cell_type": "code",
   "execution_count": null,
   "id": "a34f54ca",
   "metadata": {},
   "outputs": [],
   "source": [
    "# Age distribution\n",
    "plt.figure(figsize=(12, 6))\n",
    "sns.histplot(df['Age'], bins=20, kde=True)\n",
    "plt.title('Age Distribution')\n",
    "plt.xlabel('Age')\n",
    "plt.ylabel('Count')\n",
    "plt.show()\n",
    "\n",
    "# Attrition by age group\n",
    "df['AgeGroup'] = pd.cut(df['Age'], bins=[0, 25, 35, 45, 55, 100], \n",
    "                        labels=['<25', '26-35', '36-45', '46-55', '55+'])\n",
    "\n",
    "age_attrition = df.groupby('AgeGroup')['Attrition'].apply(\n",
    "    lambda x: (x == 'Yes').mean() * 100\n",
    ").reset_index()\n",
    "age_attrition.columns = ['Age Group', 'Attrition Rate (%)']\n",
    "\n",
    "plt.figure(figsize=(12, 6))\n",
    "sns.barplot(x='Age Group', y='Attrition Rate (%)', data=age_attrition)\n",
    "plt.title('Attrition Rate by Age Group')\n",
    "plt.xlabel('Age Group')\n",
    "plt.ylabel('Attrition Rate (%)')\n",
    "for i, rate in enumerate(age_attrition['Attrition Rate (%)']):\n",
    "    plt.text(i, rate + 0.5, f\"{rate:.1f}%\", ha='center')\n",
    "plt.show()"
   ]
  },
  {
   "cell_type": "code",
   "execution_count": null,
   "id": "0a520931",
   "metadata": {},
   "outputs": [],
   "source": [
    "# Years at company\n",
    "plt.figure(figsize=(12, 6))\n",
    "sns.histplot(df['YearsAtCompany'], bins=20, kde=True)\n",
    "plt.title('Years at Company Distribution')\n",
    "plt.xlabel('Years at Company')\n",
    "plt.ylabel('Count')\n",
    "plt.show()\n",
    "\n",
    "# Attrition by years at company\n",
    "df['TenureGroup'] = pd.cut(df['YearsAtCompany'], \n",
    "                           bins=[0, 2, 5, 10, 20, 100], \n",
    "                           labels=['<2 years', '2-5 years', '6-10 years', '11-20 years', '20+ years'])\n",
    "\n",
    "tenure_attrition = df.groupby('TenureGroup')['Attrition'].apply(\n",
    "    lambda x: (x == 'Yes').mean() * 100\n",
    ").reset_index()\n",
    "tenure_attrition.columns = ['Tenure Group', 'Attrition Rate (%)']\n",
    "\n",
    "plt.figure(figsize=(12, 6))\n",
    "sns.barplot(x='Tenure Group', y='Attrition Rate (%)', data=tenure_attrition)\n",
    "plt.title('Attrition Rate by Tenure Group')\n",
    "plt.xlabel('Tenure Group')\n",
    "plt.ylabel('Attrition Rate (%)')\n",
    "for i, rate in enumerate(tenure_attrition['Attrition Rate (%)']):\n",
    "    plt.text(i, rate + 0.5, f\"{rate:.1f}%\", ha='center')\n",
    "plt.show()"
   ]
  },
  {
   "cell_type": "markdown",
   "id": "ce49d563",
   "metadata": {},
   "source": [
    "## Satisfaction and Work-Life Balance Analysis"
   ]
  },
  {
   "cell_type": "code",
   "execution_count": null,
   "id": "01cb2e30",
   "metadata": {},
   "outputs": [],
   "source": [
    "# Job satisfaction\n",
    "job_sat_counts = df['JobSatisfaction'].value_counts().sort_index()\n",
    "print(\"Job Satisfaction distribution:\")\n",
    "print(job_sat_counts)\n",
    "\n",
    "# Attrition by job satisfaction\n",
    "job_sat_attrition = df.groupby('JobSatisfaction')['Attrition'].apply(\n",
    "    lambda x: (x == 'Yes').mean() * 100\n",
    ").reset_index()\n",
    "job_sat_attrition.columns = ['Job Satisfaction', 'Attrition Rate (%)']\n",
    "\n",
    "plt.figure(figsize=(12, 6))\n",
    "sns.barplot(x='Job Satisfaction', y='Attrition Rate (%)', data=job_sat_attrition)\n",
    "plt.title('Attrition Rate by Job Satisfaction Level')\n",
    "plt.xlabel('Job Satisfaction (1-4 scale)')\n",
    "plt.ylabel('Attrition Rate (%)')\n",
    "for i, rate in enumerate(job_sat_attrition['Attrition Rate (%)']):\n",
    "    plt.text(i, rate + 0.5, f\"{rate:.1f}%\", ha='center')\n",
    "plt.show()"
   ]
  },
  {
   "cell_type": "code",
   "execution_count": null,
   "id": "99e5cdb9",
   "metadata": {},
   "outputs": [],
   "source": [
    "# Work-life balance\n",
    "wlb_counts = df['WorkLifeBalance'].value_counts().sort_index()\n",
    "print(\"Work-Life Balance distribution:\")\n",
    "print(wlb_counts)\n",
    "\n",
    "# Attrition by work-life balance\n",
    "wlb_attrition = df.groupby('WorkLifeBalance')['Attrition'].apply(\n",
    "    lambda x: (x == 'Yes').mean() * 100\n",
    ").reset_index()\n",
    "wlb_attrition.columns = ['Work-Life Balance', 'Attrition Rate (%)']\n",
    "\n",
    "plt.figure(figsize=(12, 6))\n",
    "sns.barplot(x='Work-Life Balance', y='Attrition Rate (%)', data=wlb_attrition)\n",
    "plt.title('Attrition Rate by Work-Life Balance')\n",
    "plt.xlabel('Work-Life Balance (1-4 scale)')\n",
    "plt.ylabel('Attrition Rate (%)')\n",
    "for i, rate in enumerate(wlb_attrition['Attrition Rate (%)']):\n",
    "    plt.text(i, rate + 0.5, f\"{rate:.1f}%\", ha='center')\n",
    "plt.show()"
   ]
  },
  {
   "cell_type": "markdown",
   "id": "1e734a76",
   "metadata": {},
   "source": [
    "## Compensation Analysis"
   ]
  },
  {
   "cell_type": "code",
   "execution_count": null,
   "id": "5e026c39",
   "metadata": {},
   "outputs": [],
   "source": [
    "# Monthly income distribution\n",
    "plt.figure(figsize=(12, 6))\n",
    "sns.histplot(df['MonthlyIncome'], bins=30, kde=True)\n",
    "plt.title('Monthly Income Distribution')\n",
    "plt.xlabel('Monthly Income')\n",
    "plt.ylabel('Count')\n",
    "plt.show()\n",
    "\n",
    "# Monthly income by job level\n",
    "plt.figure(figsize=(12, 6))\n",
    "sns.boxplot(x='JobLevel', y='MonthlyIncome', data=df)\n",
    "plt.title('Monthly Income by Job Level')\n",
    "plt.xlabel('Job Level')\n",
    "plt.ylabel('Monthly Income')\n",
    "plt.show()\n",
    "\n",
    "# Attrition by income quartiles\n",
    "df['IncomeLevel'] = pd.qcut(df['MonthlyIncome'], q=4, labels=['Low', 'Medium-Low', 'Medium-High', 'High'])\n",
    "\n",
    "income_attrition = df.groupby('IncomeLevel')['Attrition'].apply(\n",
    "    lambda x: (x == 'Yes').mean() * 100\n",
    ").reset_index()\n",
    "income_attrition.columns = ['Income Level', 'Attrition Rate (%)']\n",
    "\n",
    "plt.figure(figsize=(12, 6))\n",
    "sns.barplot(x='Income Level', y='Attrition Rate (%)', data=income_attrition)\n",
    "plt.title('Attrition Rate by Income Level')\n",
    "plt.xlabel('Income Level (Quartiles)')\n",
    "plt.ylabel('Attrition Rate (%)')\n",
    "for i, rate in enumerate(income_attrition['Attrition Rate (%)']):\n",
    "    plt.text(i, rate + 0.5, f\"{rate:.1f}%\", ha='center')\n",
    "plt.show()"
   ]
  },
  {
   "cell_type": "markdown",
   "id": "c96f5274",
   "metadata": {},
   "source": [
    "## Additional Factors Analysis"
   ]
  },
  {
   "cell_type": "code",
   "execution_count": null,
   "id": "ef1953a9",
   "metadata": {},
   "outputs": [],
   "source": [
    "# Overtime and attrition\n",
    "overtime_attrition = df.groupby('OverTime')['Attrition'].apply(\n",
    "    lambda x: (x == 'Yes').mean() * 100\n",
    ").reset_index()\n",
    "overtime_attrition.columns = ['Overtime', 'Attrition Rate (%)']\n",
    "\n",
    "plt.figure(figsize=(10, 6))\n",
    "sns.barplot(x='Overtime', y='Attrition Rate (%)', data=overtime_attrition)\n",
    "plt.title('Attrition Rate by Overtime Status')\n",
    "plt.xlabel('Overtime')\n",
    "plt.ylabel('Attrition Rate (%)')\n",
    "for i, rate in enumerate(overtime_attrition['Attrition Rate (%)']):\n",
    "    plt.text(i, rate + 0.5, f\"{rate:.1f}%\", ha='center')\n",
    "plt.show()"
   ]
  },
  {
   "cell_type": "code",
   "execution_count": null,
   "id": "6aa9ba6f",
   "metadata": {},
   "outputs": [],
   "source": [
    "# Distance from home\n",
    "plt.figure(figsize=(12, 6))\n",
    "sns.boxplot(x='Attrition', y='DistanceFromHome', data=df)\n",
    "plt.title('Distance From Home by Attrition Status')\n",
    "plt.xlabel('Attrition')\n",
    "plt.ylabel('Distance From Home')\n",
    "plt.show()\n",
    "\n",
    "# Create distance groups\n",
    "df['DistanceGroup'] = pd.cut(df['DistanceFromHome'], \n",
    "                             bins=[0, 5, 10, 20, 30], \n",
    "                             labels=['<5 miles', '5-10 miles', '10-20 miles', '20+ miles'])\n",
    "\n",
    "distance_attrition = df.groupby('DistanceGroup')['Attrition'].apply(\n",
    "    lambda x: (x == 'Yes').mean() * 100\n",
    ").reset_index()\n",
    "distance_attrition.columns = ['Distance Group', 'Attrition Rate (%)']\n",
    "\n",
    "plt.figure(figsize=(12, 6))\n",
    "sns.barplot(x='Distance Group', y='Attrition Rate (%)', data=distance_attrition)\n",
    "plt.title('Attrition Rate by Distance from Home')\n",
    "plt.xlabel('Distance from Home')\n",
    "plt.ylabel('Attrition Rate (%)')\n",
    "for i, rate in enumerate(distance_attrition['Attrition Rate (%)']):\n",
    "    plt.text(i, rate + 0.5, f\"{rate:.1f}%\", ha='center')\n",
    "plt.show()"
   ]
  },
  {
   "cell_type": "markdown",
   "id": "3f279dbd",
   "metadata": {},
   "source": [
    "## Correlation Analysis"
   ]
  },
  {
   "cell_type": "code",
   "execution_count": null,
   "id": "8afe6cc2",
   "metadata": {},
   "outputs": [],
   "source": [
    "# Convert categorical variables to numeric for correlation analysis\n",
    "df_numeric = df.copy()\n",
    "df_numeric['AttritionNumeric'] = (df_numeric['Attrition'] == 'Yes').astype(int)\n",
    "df_numeric['OvertimeNumeric'] = (df_numeric['OverTime'] == 'Yes').astype(int)\n",
    "\n",
    "# Select numerical columns for correlation\n",
    "num_cols = ['Age', 'DailyRate', 'DistanceFromHome', 'Education', 'EnvironmentSatisfaction', \n",
    "            'HourlyRate', 'JobInvolvement', 'JobLevel', 'JobSatisfaction', 'MonthlyIncome', \n",
    "            'MonthlyRate', 'NumCompaniesWorked', 'PercentSalaryHike', 'PerformanceRating', \n",
    "            'RelationshipSatisfaction', 'StockOptionLevel', 'TotalWorkingYears', \n",
    "            'TrainingTimesLastYear', 'WorkLifeBalance', 'YearsAtCompany', \n",
    "            'YearsInCurrentRole', 'YearsSinceLastPromotion', 'YearsWithCurrManager',\n",
    "            'AttritionNumeric', 'OvertimeNumeric']\n",
    "\n",
    "# Calculate correlation matrix\n",
    "corr_matrix = df_numeric[num_cols].corr()\n",
    "\n",
    "# Plot correlation heatmap\n",
    "plt.figure(figsize=(20, 16))\n",
    "sns.heatmap(corr_matrix, annot=True, cmap='coolwarm', fmt=\".2f\", linewidths=0.5)\n",
    "plt.title('Correlation Matrix of Numerical Features', fontsize=16)\n",
    "plt.xticks(rotation=45, ha='right')\n",
    "plt.yticks(rotation=0)\n",
    "plt.tight_layout()\n",
    "plt.show()"
   ]
  },
  {
   "cell_type": "code",
   "execution_count": null,
   "id": "72166ada",
   "metadata": {},
   "outputs": [],
   "source": [
    "# Focus on correlation with attrition\n",
    "attrition_corr = corr_matrix['AttritionNumeric'].sort_values(ascending=False)\n",
    "print(\"Features most correlated with attrition:\")\n",
    "print(attrition_corr)\n",
    "\n",
    "# Plot top correlations with attrition\n",
    "plt.figure(figsize=(12, 8))\n",
    "attrition_corr_filtered = attrition_corr[attrition_corr.index != 'AttritionNumeric']\n",
    "top_corr = attrition_corr_filtered.abs().sort_values(ascending=False).head(15)\n",
    "sns.barplot(x=top_corr.values, y=top_corr.index)\n",
    "plt.title('Top Features Correlated with Attrition (Absolute Value)')\n",
    "plt.xlabel('Correlation Coefficient (Absolute Value)')\n",
    "plt.ylabel('Features')\n",
    "plt.show()"
   ]
  },
  {
   "cell_type": "markdown",
   "id": "a3fd19b1",
   "metadata": {},
   "source": [
    "## Key Findings Summary"
   ]
  },
  {
   "cell_type": "markdown",
   "id": "40a53ddc",
   "metadata": {},
   "source": [
    "Based on our exploratory analysis, here are the key findings:\n",
    "\n",
    "1. **Overall Attrition Rate**: The dataset shows an overall attrition rate of approximately 16%.\n",
    "\n",
    "2. **Department Impact**: Sales department has the highest attrition rate, followed by Human Resources and Research & Development.\n",
    "\n",
    "3. **Age Factor**: Younger employees (under 30) show significantly higher attrition rates compared to older employees.\n",
    "\n",
    "4. **Tenure Impact**: Employees with less than 2 years at the company are more likely to leave.\n",
    "\n",
    "5. **Job Satisfaction**: Lower job satisfaction scores correlate strongly with higher attrition rates.\n",
    "\n",
    "6. **Compensation**: Lower income brackets show substantially higher attrition rates.\n",
    "\n",
    "7. **Overtime**: Employees working overtime have nearly double the attrition rate compared to those who don't.\n",
    "\n",
    "8. **Distance from Home**: Longer commute distances correlate with higher attrition rates.\n",
    "\n",
    "9. **Key Correlation Factors**: The strongest correlations with attrition (in order) are overtime, job level, monthly income, total working years, and job satisfaction.\n",
    "\n",
    "These findings suggest several areas for further investigation and potential dashboard features focusing on these key drivers of attrition."
   ]
  },
  {
   "cell_type": "code",
   "execution_count": null,
   "id": "143e75bf",
   "metadata": {},
   "outputs": [],
   "source": [
    "# Create a processed version of the dataset with engineered features\n",
    "processed_df = df.copy()\n",
    "\n",
    "# Add additional engineered features for dashboard\n",
    "processed_df['AttritionBinary'] = (processed_df['Attrition'] == 'Yes').astype(int)\n",
    "processed_df['OvertimeBinary'] = (processed_df['OverTime'] == 'Yes').astype(int)\n",
    "\n",
    "# Create standardized satisfaction score (average of all satisfaction metrics)\n",
    "satisfaction_cols = ['JobSatisfaction', 'EnvironmentSatisfaction', \n",
    "                     'WorkLifeBalance', 'RelationshipSatisfaction']\n",
    "processed_df['OverallSatisfaction'] = processed_df[satisfaction_cols].mean(axis=1)\n",
    "\n",
    "# Save processed dataset\n",
    "processed_path = os.path.join('..', '..', 'data', 'processed', 'hr_data_processed.csv')\n",
    "processed_df.to_csv(processed_path, index=False)\n",
    "print(f\"Processed dataset saved to {processed_path}\")"
   ]
  }
 ],
 "metadata": {},
 "nbformat": 4,
 "nbformat_minor": 5
}
